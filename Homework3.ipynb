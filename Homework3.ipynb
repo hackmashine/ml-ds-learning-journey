{
  "nbformat": 4,
  "nbformat_minor": 0,
  "metadata": {
    "colab": {
      "provenance": [],
      "authorship_tag": "ABX9TyNzdOv10N/GJuaIj4BoBod/",
      "include_colab_link": true
    },
    "kernelspec": {
      "name": "python3",
      "display_name": "Python 3"
    },
    "language_info": {
      "name": "python"
    }
  },
  "cells": [
    {
      "cell_type": "markdown",
      "metadata": {
        "id": "view-in-github",
        "colab_type": "text"
      },
      "source": [
        "<a href=\"https://colab.research.google.com/github/hackmashine/ml-ds-learning-journey/blob/main/Homework3.ipynb\" target=\"_parent\"><img src=\"https://colab.research.google.com/assets/colab-badge.svg\" alt=\"Open In Colab\"/></a>"
      ]
    },
    {
      "cell_type": "code",
      "source": [
        "import pandas as pd\n",
        "import numpy as np\n",
        "from sklearn.model_selection import train_test_split\n",
        "from sklearn.preprocessing import LabelEncoder, StandardScaler\n",
        "from sklearn.metrics import classification_report, confusion_matrix, roc_auc_score\n",
        "from lightgbm import LGBMClassifier\n",
        "\n",
        "df = pd.read_csv(\"/content/sample_data/weatherAUS_rainfall_prediction_dataset_cleaned.csv\")\n",
        "\n",
        "\n",
        "\n",
        "# 2. Кодирование категориальных признаков\n",
        "categorical_cols = [\"Location\", \"WindGustDir\", \"WindDir9am\", \"WindDir3pm\", \"RainToday\"]\n",
        "for col in categorical_cols:\n",
        "    df[col] = LabelEncoder().fit_transform(df[col].astype(str))\n",
        "\n",
        "# Целевая переменная\n",
        "df[\"RainTomorrow\"] = (df[\"RainTomorrow\"] == \"Yes\").astype(int)\n",
        "\n",
        "# 3. Train-test split\n",
        "X = df.drop(columns=[\"Date\", \"RainTomorrow\"])\n",
        "y = df[\"RainTomorrow\"]\n",
        "\n",
        "X_train, X_test, y_train, y_test = train_test_split(\n",
        "    X, y, test_size=0.2, random_state=42, stratify=y\n",
        ")\n",
        "\n",
        "# 4. Масштабирование\n",
        "scaler = StandardScaler()\n",
        "X_train = scaler.fit_transform(X_train)\n",
        "X_test = scaler.transform(X_test)\n",
        "\n",
        "# 5. Модель LightGBM\n",
        "model = LGBMClassifier(class_weight=\"balanced\", random_state=42)\n",
        "model.fit(X_train, y_train)\n",
        "\n",
        "# 6. Оценка\n",
        "y_pred = model.predict(X_test)\n",
        "y_proba = model.predict_proba(X_test)[:,1]\n",
        "\n",
        "print(classification_report(y_test, y_pred))\n",
        "print(\"ROC-AUC:\", roc_auc_score(y_test, y_proba))\n",
        "print(\"Confusion Matrix:\\n\", confusion_matrix(y_test, y_pred))\n"
      ],
      "metadata": {
        "colab": {
          "base_uri": "https://localhost:8080/"
        },
        "id": "jPHmVBDwHGry",
        "outputId": "71219cb3-7f76-4ee3-c59d-fcbf496eef27"
      },
      "execution_count": 19,
      "outputs": [
        {
          "output_type": "stream",
          "name": "stdout",
          "text": [
            "[LightGBM] [Info] Number of positive: 25502, number of negative: 90866\n",
            "[LightGBM] [Info] Auto-choosing row-wise multi-threading, the overhead of testing was 0.013193 seconds.\n",
            "You can set `force_row_wise=true` to remove the overhead.\n",
            "And if memory is not enough, you can set `force_col_wise=true`.\n",
            "[LightGBM] [Info] Total Bins 2665\n",
            "[LightGBM] [Info] Number of data points in the train set: 116368, number of used features: 21\n",
            "[LightGBM] [Info] [binary:BoostFromScore]: pavg=0.500000 -> initscore=0.000000\n",
            "[LightGBM] [Info] Start training from score 0.000000\n"
          ]
        },
        {
          "output_type": "stream",
          "name": "stderr",
          "text": [
            "/usr/local/lib/python3.12/dist-packages/sklearn/utils/validation.py:2739: UserWarning: X does not have valid feature names, but LGBMClassifier was fitted with feature names\n",
            "  warnings.warn(\n",
            "/usr/local/lib/python3.12/dist-packages/sklearn/utils/validation.py:2739: UserWarning: X does not have valid feature names, but LGBMClassifier was fitted with feature names\n",
            "  warnings.warn(\n"
          ]
        },
        {
          "output_type": "stream",
          "name": "stdout",
          "text": [
            "              precision    recall  f1-score   support\n",
            "\n",
            "           0       0.93      0.81      0.87     22717\n",
            "           1       0.54      0.79      0.64      6375\n",
            "\n",
            "    accuracy                           0.80     29092\n",
            "   macro avg       0.73      0.80      0.75     29092\n",
            "weighted avg       0.85      0.80      0.82     29092\n",
            "\n",
            "ROC-AUC: 0.8848657695239033\n",
            "Confusion Matrix:\n",
            " [[18339  4378]\n",
            " [ 1335  5040]]\n"
          ]
        }
      ]
    },
    {
      "cell_type": "code",
      "source": [
        "import matplotlib.pyplot as plt\n",
        "import seaborn as sns\n",
        "from sklearn.metrics import confusion_matrix\n",
        "\n",
        "# Твои предсказания и y_test уже есть, допустим:\n",
        "# y_pred = model.predict(X_test)\n",
        "\n",
        "cm = confusion_matrix(y_test, y_pred)\n",
        "\n",
        "plt.figure(figsize=(6,5))\n",
        "sns.heatmap(cm, annot=True, fmt=\"d\", cmap=\"Blues\", cbar=False,\n",
        "            xticklabels=[\"No Rain (0)\", \"Rain (1)\"],\n",
        "            yticklabels=[\"No Rain (0)\", \"Rain (1)\"])\n",
        "plt.xlabel(\"Predicted\")\n",
        "plt.ylabel(\"Actual\")\n",
        "plt.title(\"Confusion Matrix Heatmap\")\n",
        "plt.show()\n"
      ],
      "metadata": {
        "colab": {
          "base_uri": "https://localhost:8080/",
          "height": 487
        },
        "id": "3-4R4RAdI4vi",
        "outputId": "722f0298-5e1f-4925-b908-d023061f1035"
      },
      "execution_count": 20,
      "outputs": [
        {
          "output_type": "display_data",
          "data": {
            "text/plain": [
              "<Figure size 600x500 with 1 Axes>"
            ],
            "image/png": "[encoded data removed]"
          },
          "metadata": {}
        }
      ]
    }
  ]
}