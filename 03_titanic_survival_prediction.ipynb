{
  "nbformat": 4,
  "nbformat_minor": 0,
  "metadata": {
    "colab": {
      "provenance": [],
      "authorship_tag": "ABX9TyO+9jUTjaYdW/99+7McsbU0",
      "include_colab_link": true
    },
    "kernelspec": {
      "name": "python3",
      "display_name": "Python 3"
    },
    "language_info": {
      "name": "python"
    }
  },
  "cells": [
    {
      "cell_type": "markdown",
      "metadata": {
        "id": "view-in-github",
        "colab_type": "text"
      },
      "source": [
        "<a href=\"https://colab.research.google.com/github/hackmashine/ml-ds-learning-journey/blob/main/03_titanic_survival_prediction.ipynb\" target=\"_parent\"><img src=\"https://colab.research.google.com/assets/colab-badge.svg\" alt=\"Open In Colab\"/></a>"
      ]
    },
    {
      "cell_type": "code",
      "execution_count": null,
      "metadata": {
        "colab": {
          "base_uri": "https://localhost:8080/"
        },
        "id": "bs_piPGY2OVG",
        "outputId": "8ec131bb-d10a-4122-9c55-70c17717c775"
      },
      "outputs": [
        {
          "output_type": "stream",
          "name": "stdout",
          "text": [
            "Accuracy: 0.7482517482517482\n"
          ]
        }
      ],
      "source": [
        "import seaborn as sns\n",
        "import pandas as pd\n",
        "from sklearn.model_selection import train_test_split\n",
        "from sklearn.linear_model import LogisticRegression\n",
        "from sklearn.metrics import accuracy_score\n",
        "\n",
        "data = sns.load_dataset(\"titanic\").dropna(subset=[\"age\", \"sex\", \"class\", \"survived\"])\n",
        "\n",
        "data[\"sex\"] = data[\"sex\"].map({\"male\": 0, \"female\": 1})\n",
        "data[\"class\"] = data[\"class\"].map({\"First\": 1, \"Second\": 2, \"Third\": 3})\n",
        "\n",
        "X = data[[\"age\", \"sex\", \"class\"]]\n",
        "y = data[\"survived\"]\n",
        "\n",
        "X_train, X_test, y_train, y_test = train_test_split(X, y, test_size=0.2, random_state=42)\n",
        "\n",
        "model = LogisticRegression(max_iter=1000)\n",
        "model.fit(X_train, y_train)\n",
        "\n",
        "preds = model.predict(X_test)\n",
        "print(\"Accuracy:\", accuracy_score(y_test, preds))\n"
      ]
    }
  ]
}